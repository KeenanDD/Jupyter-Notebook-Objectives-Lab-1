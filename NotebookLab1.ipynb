{
 "cells": [
  {
   "cell_type": "markdown",
   "id": "4fd8fd7b-cd2c-4171-adf2-9fede18f5052",
   "metadata": {},
   "source": [
    "# Data Science Tools and Ecosystem"
   ]
  },
  {
   "cell_type": "markdown",
   "id": "b169f803-a749-40a8-9414-bd3f278eec40",
   "metadata": {},
   "source": [
    "In this notebook, Data Science Tools and Ecosystem are summarized."
   ]
  },
  {
   "cell_type": "markdown",
   "id": "82e7933a-cc26-4c1b-babc-f14f05ce36db",
   "metadata": {},
   "source": [
    "Objectives:\n",
    "\n",
    "- List popular languages for Data Science\n",
    "- List commonly used libraries\n",
    "- Make a table of popular Data Science Tools\n"
   ]
  },
  {
   "cell_type": "markdown",
   "id": "58217f44-acdc-4bca-9bc3-76169000c2b9",
   "metadata": {},
   "source": [
    "Some of the popular languages that Data Scientists use are:\n",
    "\n",
    "1. Python\n",
    "2. R\n",
    "3. SQL\n",
    "4. Java"
   ]
  },
  {
   "cell_type": "markdown",
   "id": "1b89115b-0f7a-43a1-b108-c48951f13b12",
   "metadata": {},
   "source": [
    "Some of the commonly used libraries used by Data Scientists include:\n",
    "\n",
    "1. Pandas\n",
    "2. PyTorch\n",
    "3. TensorFlow\n"
   ]
  },
  {
   "cell_type": "markdown",
   "id": "6bb74d6e-7259-42e5-a3f8-b9395941741d",
   "metadata": {},
   "source": [
    "| Data Science Tools |\n",
    "|---|\n",
    "| MySQL |\n",
    "| Jupyter Notebook |\n",
    "| Git |"
   ]
  },
  {
   "cell_type": "markdown",
   "id": "14af0028-c9a3-4b69-8717-308c8f691282",
   "metadata": {},
   "source": [
    "### Below are a few examples of evaluating arithmetic expressions in Python"
   ]
  },
  {
   "cell_type": "code",
   "execution_count": 2,
   "id": "950a5943-d81f-41dd-a1a6-372d8599e56b",
   "metadata": {
    "tags": []
   },
   "outputs": [
    {
     "data": {
      "text/plain": [
       "17"
      ]
     },
     "execution_count": 2,
     "metadata": {},
     "output_type": "execute_result"
    }
   ],
   "source": [
    "# this a simple arithmetic expression to mutiply then add integers\n",
    "(3*4)+5"
   ]
  },
  {
   "cell_type": "code",
   "execution_count": 3,
   "id": "dced9389-b659-4d9e-9b48-9f65a45effce",
   "metadata": {
    "tags": []
   },
   "outputs": [
    {
     "data": {
      "text/plain": [
       "3.3333333333333335"
      ]
     },
     "execution_count": 3,
     "metadata": {},
     "output_type": "execute_result"
    }
   ],
   "source": [
    "# This will convert 200 minutes to hours by diving by 60\n",
    "200/60"
   ]
  },
  {
   "cell_type": "markdown",
   "id": "8248ec48-2c94-4414-8c93-bf719c0532f1",
   "metadata": {},
   "source": [
    "## Author\n",
    "Keenan Dobson"
   ]
  },
  {
   "cell_type": "code",
   "execution_count": null,
   "id": "d56a4b97-5a06-4220-9f9f-0810b9aec5f4",
   "metadata": {},
   "outputs": [],
   "source": []
  }
 ],
 "metadata": {
  "kernelspec": {
   "display_name": "Python",
   "language": "python",
   "name": "conda-env-python-py"
  },
  "language_info": {
   "codemirror_mode": {
    "name": "ipython",
    "version": 3
   },
   "file_extension": ".py",
   "mimetype": "text/x-python",
   "name": "python",
   "nbconvert_exporter": "python",
   "pygments_lexer": "ipython3",
   "version": "3.7.12"
  }
 },
 "nbformat": 4,
 "nbformat_minor": 5
}
